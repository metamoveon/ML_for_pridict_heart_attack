{
  "nbformat": 4,
  "nbformat_minor": 0,
  "metadata": {
    "colab": {
      "provenance": []
    },
    "kernelspec": {
      "name": "python3",
      "display_name": "Python 3"
    },
    "language_info": {
      "name": "python"
    }
  },
  "cells": [
    {
      "cell_type": "markdown",
      "source": [
        "\n",
        "# เพื่อเริ่มกระบวนการสร้างแบบจำลองทำนายโรคกล้ามเนื้อหัวใจขาดเลือดเฉียบพลัน ก่อนอื่นเราจะต้องนำเข้าข้อมูลและดูข้อมูลให้เข้าใจก่อน โดยใช้ไพธอน:"
      ],
      "metadata": {
        "id": "PpIJJ25mtUrC"
      }
    },
    {
      "cell_type": "code",
      "execution_count": null,
      "metadata": {
        "colab": {
          "base_uri": "https://localhost:8080/"
        },
        "id": "QufaDvK8ouKn",
        "outputId": "6ff4ed81-5a7b-4166-e4aa-8e02c902cc5c"
      },
      "outputs": [
        {
          "output_type": "stream",
          "name": "stdout",
          "text": [
            "     age  sex  cp  trtbps  chol  fbs  restecg  thalachh  exng  oldpeak  slp  \\\n",
            "0     63    1   3     145   233    1        0       150     0      2.3    0   \n",
            "1     37    1   2     130   250    0        1       187     0      3.5    0   \n",
            "2     41    0   1     130   204    0        0       172     0      1.4    2   \n",
            "3     56    1   1     120   236    0        1       178     0      0.8    2   \n",
            "4     57    0   0     120   354    0        1       163     1      0.6    2   \n",
            "..   ...  ...  ..     ...   ...  ...      ...       ...   ...      ...  ...   \n",
            "298   57    0   0     140   241    0        1       123     1      0.2    1   \n",
            "299   45    1   3     110   264    0        1       132     0      1.2    1   \n",
            "300   68    1   0     144   193    1        1       141     0      3.4    1   \n",
            "301   57    1   0     130   131    0        1       115     1      1.2    1   \n",
            "302   57    0   1     130   236    0        0       174     0      0.0    1   \n",
            "\n",
            "     caa  thall    o2  output  \n",
            "0      0      1  98.6       1  \n",
            "1      0      2  98.6       1  \n",
            "2      0      2  98.6       1  \n",
            "3      0      2  98.6       1  \n",
            "4      0      2  98.1       1  \n",
            "..   ...    ...   ...     ...  \n",
            "298    0      3  97.5       0  \n",
            "299    0      3  97.5       0  \n",
            "300    2      3  97.5       0  \n",
            "301    1      3  97.5       0  \n",
            "302    1      2  97.5       0  \n",
            "\n",
            "[303 rows x 15 columns]\n"
          ]
        }
      ],
      "source": [
        "import pandas as pd\n",
        "import numpy as np\n",
        "import seaborn as sns\n",
        "\n",
        "# โหลดข้อมูล\n",
        "data = pd.read_csv('heart.csv')\n",
        "oxygen = pd.read_csv('o2Saturation.csv')\n",
        "#total_data = pd.DataFrame(np.c_[data],[oxygen])\n",
        "# แสดงข้อมูลเพื่อดูตัวอย่าง\n",
        "print(data)\n"
      ]
    },
    {
      "cell_type": "markdown",
      "source": [
        "#จากการสำรวจข้อมูลพบว่า เป้าหมายในการเก็บข้อมูลครั้งนี้จะให้ค่า\n",
        "* **0 มีโอกาสหัวใจวายน้อยลง**\n",
        "* **1 มีโอกาสหัวใจวายมากขึ้น**\n"
      ],
      "metadata": {
        "id": "z6LU6Q9XHjU4"
      }
    },
    {
      "cell_type": "markdown",
      "source": [
        "\n",
        "# จากการสำรวจข้อมูลพบว่า เป้าหมายในการเก็บข้อมูลครั้งนี้จะให้ค่า\n",
        "# * 0 มีโอกาสหัวใจวายน้อยลง\n",
        "# * 1 มีโอกาสหัวใจวายมากขึ้น\n",
        "\n",
        "# เมื่อเราได้ข้อมูลแล้วเราสามารถเริ่มกระบวนการสร้างแบบจำลองได้ โดยเริ่มจากการแบ่งข้อมูลเป็นชุดการฝึกและชุดการทดสอบ เพื่อทดสอบประสิทธิภาพของแบบจำลองที่สร้างขึ้นด้วยการเรียนรู้แบบมีผู้สอน (Supervised Learning) จากนั้นสร้างและฝึกแบบจำลองด้วย Decision Tree, K-Nearest Neighbors, และ Support Vector Machine (SVM) ได้ดังนี้:\n",
        "\n",
        "#1. Decision Tree"
      ],
      "metadata": {
        "id": "5tidRTTytntK"
      }
    },
    {
      "cell_type": "code",
      "source": [
        "from sklearn.model_selection import train_test_split\n",
        "from sklearn.tree import DecisionTreeClassifier\n",
        "from sklearn.metrics import accuracy_score\n",
        "\n",
        "# แบ่งข้อมูลเป็นชุดการฝึกและชุดการทดสอบ\n",
        "X = data.drop('output', axis=1)\n",
        "y = data['output']\n",
        "X_train, X_test, y_train, y_test = train_test_split(X, y, test_size=0.2, random_state=0)\n",
        "\n",
        "# สร้างแบบจำลอง Decision Tree\n",
        "dt_model = DecisionTreeClassifier(criterion='entropy',min_samples_split=2)\n",
        "model = dt_model.fit(X_train, y_train)\n",
        "\n",
        "\n",
        "# ทดสอบและประเมินประสิทธิภาพของแบบจำลอง\n",
        "dt_predictions = model.predict(X_test)\n",
        "dt_accuracy = accuracy_score(y_test, dt_predictions)\n",
        "print(\"Decision Tree Accuracy:\", dt_accuracy)"
      ],
      "metadata": {
        "colab": {
          "base_uri": "https://localhost:8080/"
        },
        "id": "cjOdhiDDt2DQ",
        "outputId": "4ad5b79c-b03b-4572-e431-935b1a5267af"
      },
      "execution_count": null,
      "outputs": [
        {
          "output_type": "stream",
          "name": "stdout",
          "text": [
            "Decision Tree Accuracy: 0.7868852459016393\n"
          ]
        }
      ]
    },
    {
      "cell_type": "markdown",
      "source": [
        "# 2. K-Nearest Neighbors (KNN)"
      ],
      "metadata": {
        "id": "RSvsfZyzuAvZ"
      }
    },
    {
      "cell_type": "code",
      "source": [
        "from sklearn.neighbors import KNeighborsClassifier\n",
        "\n",
        "# สร้างแบบจำลอง KNN\n",
        "knn_model = KNeighborsClassifier()\n",
        "knn_model.fit(X_train, y_train)\n",
        "\n",
        "# ทดสอบและประเมินประสิทธิภาพของแบบจำลอง\n",
        "knn_predictions = knn_model.predict(X_test)\n",
        "knn_accuracy = accuracy_score(y_test, knn_predictions)\n",
        "print(\"KNN Accuracy:\", knn_accuracy)"
      ],
      "metadata": {
        "colab": {
          "base_uri": "https://localhost:8080/"
        },
        "id": "wqFjm0nOuFOE",
        "outputId": "fc51a683-55fa-44b3-b483-420223705392"
      },
      "execution_count": null,
      "outputs": [
        {
          "output_type": "stream",
          "name": "stdout",
          "text": [
            "KNN Accuracy: 0.6885245901639344\n"
          ]
        }
      ]
    },
    {
      "cell_type": "markdown",
      "source": [
        "# 3. Support Vector Machine (SVM)"
      ],
      "metadata": {
        "id": "cHLJGbIHuJ8B"
      }
    },
    {
      "cell_type": "code",
      "source": [
        "from sklearn.svm import SVC\n",
        "\n",
        "# สร้างแบบจำลอง SVM\n",
        "svm_model = SVC()\n",
        "svm_model.fit(X_train, y_train)\n",
        "\n",
        "# ทดสอบและประเมินประสิทธิภาพของแบบจำลอง\n",
        "svm_predictions = svm_model.predict(X_test)\n",
        "svm_accuracy = accuracy_score(y_test, svm_predictions)\n",
        "print(\"SVM Accuracy:\", svm_accuracy)"
      ],
      "metadata": {
        "colab": {
          "base_uri": "https://localhost:8080/"
        },
        "id": "rCMPH9hmuO-D",
        "outputId": "ff6dc4b6-bedd-4777-d147-f462149903f8"
      },
      "execution_count": null,
      "outputs": [
        {
          "output_type": "stream",
          "name": "stdout",
          "text": [
            "SVM Accuracy: 0.7049180327868853\n"
          ]
        }
      ]
    },
    {
      "cell_type": "markdown",
      "source": [
        "# หลังจากที่เราได้แต่ละค่าความแม่นยำของแบบจำลองที่สร้างขึ้นแล้ว เราสามารถเปรียบเทียบประสิทธิภาพของแต่ละแบบจำลองได้ และเลือกใช้แบบจำลองที่ให้ผลลัพธ์ที่ดีที่สุดสำหรับงานนี้ได้โดยพิจารณาตามความแม่นยำของค่า Accuracy จะเห็นได้ว่า แบบจำลอง Decision Tree ให้ค่าที่ดีที่สุด จึงนำใช้เป็นแบบจำลองในการทำนายโรคกล้ามเนื้อหัวใจขาดเลือดเฉียบพลันรายบุคคลได้"
      ],
      "metadata": {
        "id": "8nDA-OTOuSbS"
      }
    },
    {
      "cell_type": "code",
      "source": [
        "# ทำนายผลด้วยโมเดลที่สร้างขึ้น\n",
        "\n",
        "print(model.predict([[46,1,3,130,130,0,0,150,0,0.8,0,0,1,98.5]]))\n"
      ],
      "metadata": {
        "id": "f8y8QeoQuXO1",
        "colab": {
          "base_uri": "https://localhost:8080/"
        },
        "outputId": "03a6c60e-d2f7-408e-83d0-8b252f607474"
      },
      "execution_count": null,
      "outputs": [
        {
          "output_type": "stream",
          "name": "stdout",
          "text": [
            "[1]\n"
          ]
        },
        {
          "output_type": "stream",
          "name": "stderr",
          "text": [
            "/usr/local/lib/python3.10/dist-packages/sklearn/base.py:439: UserWarning: X does not have valid feature names, but DecisionTreeClassifier was fitted with feature names\n",
            "  warnings.warn(\n"
          ]
        }
      ]
    }
  ]
}